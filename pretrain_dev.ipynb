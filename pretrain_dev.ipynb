{
 "cells": [
  {
   "cell_type": "code",
   "execution_count": 4,
   "id": "224bc54e-fbfc-43ff-af27-57ded4531bc9",
   "metadata": {},
   "outputs": [],
   "source": [
    "!export PJRT_DEVICE=TPU"
   ]
  },
  {
   "cell_type": "code",
   "execution_count": 5,
   "id": "7a29f10f-38b0-46b7-8982-304114a4d393",
   "metadata": {},
   "outputs": [
    {
     "name": "stdout",
     "output_type": "stream",
     "text": [
      "tensor([[-2.1709,  0.8687, -0.4139],\n",
      "        [-0.4169, -2.6102, -1.1311],\n",
      "        [ 1.7698,  0.3981, -1.6594]], device='xla:0')\n"
     ]
    }
   ],
   "source": [
    "import torch\n",
    "import torch_xla.core.xla_model as xm\n",
    "\n",
    "dev = xm.xla_device()\n",
    "t1 = torch.randn(3,3,device=dev)\n",
    "t2 = torch.randn(3,3,device=dev)\n",
    "print(t1 + t2)\n"
   ]
  },
  {
   "cell_type": "code",
   "execution_count": 6,
   "id": "ffa88e9d-95de-4d3f-9b70-1a7d901d8774",
   "metadata": {},
   "outputs": [],
   "source": [
    "import os"
   ]
  },
  {
   "cell_type": "code",
   "execution_count": 8,
   "id": "1eb9085d-6863-4f96-aca2-dd0941112aa0",
   "metadata": {},
   "outputs": [],
   "source": [
    "import argparse\n",
    "import os\n",
    "\n",
    "import evaluate\n",
    "import torch\n",
    "from datasets import load_dataset\n",
    "from torch.optim import AdamW\n",
    "from torch.utils.data import DataLoader\n",
    "from transformers import AutoModelForSequenceClassification, AutoTokenizer, get_linear_schedule_with_warmup, set_seed\n",
    "\n",
    "from accelerate import Accelerator, DataLoaderConfiguration, DistributedType"
   ]
  },
  {
   "cell_type": "code",
   "execution_count": 9,
   "id": "fa81d274-fa2d-433e-ab61-cb2c62b5c8aa",
   "metadata": {},
   "outputs": [],
   "source": [
    "import numpy as np\n",
    "import multiprocessing as mp\n",
    "from torch.utils.data import IterableDataset, get_worker_info\n",
    "\n",
    "def worker_init_fn(worker_id):\n",
    "    \"\"\"Initializes each data loader worker to have its own data streams.\"\"\"\n",
    "    worker_info = get_worker_info()\n",
    "    dataset = worker_info.dataset\n",
    "    # Each worker gets its own generator for each data source\n",
    "    dataset.data_streams = [iter(source) for source in dataset.sources]\n",
    "\n",
    "class StatefulStreamingDataset(IterableDataset):\n",
    "    \"\"\"\n",
    "    An IterableDataset that samples from multiple data sources based on\n",
    "    dynamically updatable weights, optimized for batched sampling.\n",
    "    \"\"\"\n",
    "    def __init__(self, sources, initial_weights, chunk_size=4096):\n",
    "        self.sources = sources\n",
    "        # Use a multiprocessing Array for weights to ensure they are shared\n",
    "        # across all data loader worker processes.\n",
    "        self.weights = mp.Array('d', initial_weights)\n",
    "        self.chunk_size = chunk_size\n",
    "        self.data_streams = None\n",
    "\n",
    "    def _get_weights(self):\n",
    "        \"\"\"Reads the current weights from the shared memory array.\"\"\"\n",
    "        return np.array(self.weights[:])\n",
    "\n",
    "    def update_weights(self, new_weights: list[float]):\n",
    "        \"\"\"\n",
    "        Updates the shared weights. This method is called from the main\n",
    "        process by a custom callback.\n",
    "        \"\"\"\n",
    "        with self.weights.get_lock():\n",
    "            for i in range(len(new_weights)):\n",
    "                self.weights[i] = new_weights[i]\n",
    "\n",
    "    def __iter__(self):\n",
    "        \"\"\"The core streaming logic for each worker, using chunked sampling.\"\"\"\n",
    "        # Initialize streams if they haven't been, relevant for num_workers=0\n",
    "        if self.data_streams is None:\n",
    "            self.data_streams = [iter(source) for source in self.sources]\n",
    "\n",
    "        while True:\n",
    "            # --- Start of Optimized Block ---\n",
    "            # 1. Get weights and probabilities ONCE per chunk.\n",
    "            current_weights = self._get_weights()\n",
    "            probabilities = current_weights / np.sum(current_weights)\n",
    "            \n",
    "            # 2. Generate a large chunk of source indices at once.\n",
    "            # This is vastly more efficient than calling it in a loop.\n",
    "            source_indices = np.random.choice(\n",
    "                len(self.sources), \n",
    "                size=self.chunk_size, \n",
    "                p=probabilities\n",
    "            )\n",
    "\n",
    "            # 3. Iterate through the pre-sampled chunk and yield items.\n",
    "            for source_idx in source_indices:\n",
    "                try:\n",
    "                    yield next(self.data_streams[source_idx])\n",
    "                except StopIteration:\n",
    "                    # When a source is exhausted, restart it for continuous training\n",
    "                    print(f\"Worker {get_worker_info().id if get_worker_info() else 0}: Restarting stream {source_idx}.\")\n",
    "                    self.data_streams[source_idx] = iter(self.sources[source_idx])\n",
    "                    yield next(self.data_streams[source_idx])"
   ]
  },
  {
   "cell_type": "code",
   "execution_count": 10,
   "id": "3e53266f-e945-4c29-b216-b5e6eb356224",
   "metadata": {},
   "outputs": [],
   "source": [
    "from streaming import Stream, StreamingDataset\n",
    "from torch.utils.data import DataLoader"
   ]
  },
  {
   "cell_type": "code",
   "execution_count": 13,
   "id": "b666a19f-008e-4a65-a5c5-4cff90ac59de",
   "metadata": {},
   "outputs": [],
   "source": [
    "local_path = '/home/shuyaoli/llm_data/LLM-Shearing/for_prune/'"
   ]
  },
  {
   "cell_type": "code",
   "execution_count": 14,
   "id": "589dbdc7-983f-4284-ac51-d17829b255d7",
   "metadata": {},
   "outputs": [
    {
     "name": "stdout",
     "output_type": "stream",
     "text": [
      "dict_keys(['set', 'tokens'])\n",
      "dict_keys(['set', 'tokens'])\n",
      "dict_keys(['set', 'tokens'])\n",
      "dict_keys(['set', 'tokens'])\n",
      "dict_keys(['set', 'tokens'])\n",
      "dict_keys(['set', 'tokens'])\n",
      "dict_keys(['set', 'tokens'])\n"
     ]
    }
   ],
   "source": [
    "stream_names = [\n",
    "    'book', \n",
    "    'arxiv', \n",
    "    'stackexchange', \n",
    "    'wiki', \n",
    "    'c4-rp', \n",
    "    'cc', \n",
    "    'github'\n",
    "]\n",
    "\n",
    "#    Create a Stream object for each data source\n",
    "#    This tells the dataset where to find each `index.json`\n",
    "streams = []\n",
    "for name in stream_names:\n",
    "    streams.append(Stream(local=os.path.join(local_path, name)))\n",
    "\n",
    "#  Initialize the main StreamingDataset with all your streams\n",
    "#  The `StreamingDataset` will handle the dynamic mixing of these sources.\n",
    "#  You can assign weights to each stream to control the sampling proportion.\n",
    "#  If weights are not provided, it samples based on the size of each stream.\n",
    "dataset = StreamingDataset(\n",
    "    streams=streams,\n",
    "    batch_size=128  # Provide your batch size\n",
    ")\n",
    "\n",
    "# You can now use this dataset with a DataLoader\n",
    "dataloader = DataLoader(dataset, batch_size=None) # batch_size is handled by StreamingDataset\n",
    "\n",
    "# Iterate to see the data\n",
    "for i, sample in enumerate(dataloader):\n",
    "    # The 'sample' will be a dictionary-like object from one of the streams\n",
    "    print(sample.keys())\n",
    "    if i > 5:\n",
    "        break"
   ]
  },
  {
   "cell_type": "code",
   "execution_count": null,
   "id": "76f4cfdf-9646-466d-b3d7-3cb91c063876",
   "metadata": {},
   "outputs": [],
   "source": []
  }
 ],
 "metadata": {
  "kernelspec": {
   "display_name": "Python 3 (ipykernel)",
   "language": "python",
   "name": "python3"
  },
  "language_info": {
   "codemirror_mode": {
    "name": "ipython",
    "version": 3
   },
   "file_extension": ".py",
   "mimetype": "text/x-python",
   "name": "python",
   "nbconvert_exporter": "python",
   "pygments_lexer": "ipython3",
   "version": "3.10.12"
  }
 },
 "nbformat": 4,
 "nbformat_minor": 5
}
