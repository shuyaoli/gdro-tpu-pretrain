{
 "cells": [
  {
   "cell_type": "code",
   "execution_count": 5,
   "id": "224bc54e-fbfc-43ff-af27-57ded4531bc9",
   "metadata": {},
   "outputs": [],
   "source": [
    "!export PJRT_DEVICE=TPU"
   ]
  },
  {
   "cell_type": "code",
   "execution_count": 1,
   "id": "7a29f10f-38b0-46b7-8982-304114a4d393",
   "metadata": {},
   "outputs": [
    {
     "name": "stderr",
     "output_type": "stream",
     "text": [
      "WARNING:root:libtpu.so and TPU device found. Setting PJRT_DEVICE=TPU.\n"
     ]
    },
    {
     "name": "stdout",
     "output_type": "stream",
     "text": [
      "tensor([[-2.1709,  0.8687, -0.4139],\n",
      "        [-0.4169, -2.6102, -1.1311],\n",
      "        [ 1.7698,  0.3981, -1.6594]], device='xla:0')\n"
     ]
    }
   ],
   "source": [
    "import torch\n",
    "import torch_xla.core.xla_model as xm\n",
    "\n",
    "dev = xm.xla_device()\n",
    "t1 = torch.randn(3,3,device=dev)\n",
    "t2 = torch.randn(3,3,device=dev)\n",
    "print(t1 + t2)\n"
   ]
  },
  {
   "cell_type": "code",
   "execution_count": 6,
   "id": "ffa88e9d-95de-4d3f-9b70-1a7d901d8774",
   "metadata": {},
   "outputs": [],
   "source": [
    "import os"
   ]
  },
  {
   "cell_type": "code",
   "execution_count": null,
   "id": "b974d309-1b21-4688-bd5a-76e91d6ceeee",
   "metadata": {},
   "outputs": [],
   "source": [
    "os.environ.set"
   ]
  },
  {
   "cell_type": "code",
   "execution_count": 8,
   "id": "1eb9085d-6863-4f96-aca2-dd0941112aa0",
   "metadata": {},
   "outputs": [
    {
     "name": "stdout",
     "output_type": "stream",
     "text": [
      "SHELL=/bin/bash\n",
      "COLORTERM=truecolor\n",
      "GLIBCXX_FORCE_NEW=1\n",
      "TERM_PROGRAM_VERSION=1.101.2\n",
      "TPU_WORKER_ID=0\n",
      "TF_CPP_MIN_LOG_LEVEL=1\n",
      "PWD=/home/shuyaoli/gdro-tpu-pretrain\n",
      "LOGNAME=shuyaoli\n",
      "CLOUD_TPU_TASK_ID=0\n",
      "XDG_SESSION_TYPE=tty\n",
      "GCS_READ_REQUEST_TIMEOUT_SECS=300\n",
      "JPY_SESSION_NAME=/home/shuyaoli/gdro-tpu-pretrain/Untitled.ipynb\n",
      "GLIBCPP_FORCE_NEW=1\n",
      "_=/usr/bin/printenv\n",
      "VSCODE_GIT_ASKPASS_NODE=/home/shuyaoli/.vscode-server/cli/servers/Stable-2901c5ac6db8a986a5666c3af51ff804d05af0d4/server/node\n",
      "MOTD_SHOWN=pam\n",
      "LD_PRELOAD=/usr/lib/x86_64-linux-gnu/libtcmalloc.so.4\n",
      "HOME=/home/shuyaoli\n",
      "LANG=C.UTF-8\n",
      "LS_COLORS=rs=0:di=01;34:ln=01;36:mh=00:pi=40;33:so=01;35:do=01;35:bd=40;33;01:cd=40;33;01:or=40;31;01:mi=00:su=37;41:sg=30;43:ca=30;41:tw=30;42:ow=34;42:st=37;44:ex=01;32:*.tar=01;31:*.tgz=01;31:*.arc=01;31:*.arj=01;31:*.taz=01;31:*.lha=01;31:*.lz4=01;31:*.lzh=01;31:*.lzma=01;31:*.tlz=01;31:*.txz=01;31:*.tzo=01;31:*.t7z=01;31:*.zip=01;31:*.z=01;31:*.dz=01;31:*.gz=01;31:*.lrz=01;31:*.lz=01;31:*.lzo=01;31:*.xz=01;31:*.zst=01;31:*.tzst=01;31:*.bz2=01;31:*.bz=01;31:*.tbz=01;31:*.tbz2=01;31:*.tz=01;31:*.deb=01;31:*.rpm=01;31:*.jar=01;31:*.war=01;31:*.ear=01;31:*.sar=01;31:*.rar=01;31:*.alz=01;31:*.ace=01;31:*.zoo=01;31:*.cpio=01;31:*.7z=01;31:*.rz=01;31:*.cab=01;31:*.wim=01;31:*.swm=01;31:*.dwm=01;31:*.esd=01;31:*.jpg=01;35:*.jpeg=01;35:*.mjpg=01;35:*.mjpeg=01;35:*.gif=01;35:*.bmp=01;35:*.pbm=01;35:*.pgm=01;35:*.ppm=01;35:*.tga=01;35:*.xbm=01;35:*.xpm=01;35:*.tif=01;35:*.tiff=01;35:*.png=01;35:*.svg=01;35:*.svgz=01;35:*.mng=01;35:*.pcx=01;35:*.mov=01;35:*.mpg=01;35:*.mpeg=01;35:*.m2v=01;35:*.mkv=01;35:*.webm=01;35:*.webp=01;35:*.ogm=01;35:*.mp4=01;35:*.m4v=01;35:*.mp4v=01;35:*.vob=01;35:*.qt=01;35:*.nuv=01;35:*.wmv=01;35:*.asf=01;35:*.rm=01;35:*.rmvb=01;35:*.flc=01;35:*.avi=01;35:*.fli=01;35:*.flv=01;35:*.gl=01;35:*.dl=01;35:*.xcf=01;35:*.xwd=01;35:*.yuv=01;35:*.cgm=01;35:*.emf=01;35:*.ogv=01;35:*.ogx=01;35:*.aac=00;36:*.au=00;36:*.flac=00;36:*.m4a=00;36:*.mid=00;36:*.midi=00;36:*.mka=00;36:*.mp3=00;36:*.mpc=00;36:*.ogg=00;36:*.ra=00;36:*.wav=00;36:*.oga=00;36:*.opus=00;36:*.spx=00;36:*.xspf=00;36:\n",
      "GCS_WRITE_REQUEST_TIMEOUT_SECS=600\n",
      "SSL_CERT_DIR=/usr/lib/ssl/certs\n",
      "PTXLA_TPU_LIBRARY_PATH=/home/shuyaoli/.local/lib/python3.10/site-packages/libtpu/libtpu.so\n",
      "FORCE_COLOR=1\n",
      "GIT_ASKPASS=/home/shuyaoli/.vscode-server/cli/servers/Stable-2901c5ac6db8a986a5666c3af51ff804d05af0d4/server/extensions/git/dist/askpass.sh\n",
      "PYDEVD_USE_FRAME_EVAL=NO\n",
      "PJRT_DYNAMIC_PLUGINS=1\n",
      "CLICOLOR=1\n",
      "ENABLE_RUNTIME_UPTIME_TELEMETRY=1\n",
      "CLICOLOR_FORCE=1\n",
      "SSH_CONNECTION=144.92.38.236 6281 10.164.0.7 22\n",
      "CLOUDSDK_PYTHON=/usr/bin/python3\n",
      "LIBTPU_INIT_ARGS= --xla_latency_hiding_scheduler_rerun=1 --xla_tpu_prefer_async_allgather_to_allreduce=true --xla_tpu_enable_flash_attention=false\n",
      "VSCODE_GIT_ASKPASS_EXTRA_ARGS=\n",
      "JPY_PARENT_PID=17685\n",
      "LESSCLOSE=/usr/bin/lesspipe %s %s\n",
      "XDG_SESSION_CLASS=user\n",
      "TERM=xterm-color\n",
      "GCS_REQUEST_CONNECTION_TIMEOUT_SECS=300\n",
      "GCS_RESOLVE_REFRESH_SECS=60\n",
      "LESSOPEN=| /usr/bin/lesspipe %s\n",
      "USER=shuyaoli\n",
      "GIT_PAGER=cat\n",
      "GCS_METADATA_REQUEST_TIMEOUT_SECS=300\n",
      "VSCODE_GIT_IPC_HANDLE=/run/user/2001/vscode-git-519595a894.sock\n",
      "TPU_ML_PLATFORM=PyTorch/XLA\n",
      "XLA_FLAGS= --xla_cpu_enable_fast_math=false --xla_gpu_force_compilation_parallelism=8\n",
      "SHLVL=2\n",
      "PJRT_DEVICE=TPU\n",
      "PAGER=cat\n",
      "TPU_LIBRARY_PATH=/home/shuyaoli/.local/lib/python3.10/site-packages/libtpu/libtpu.so\n",
      "TPU_ML_PLATFORM_VERSION=2.7.0\n",
      "XDG_SESSION_ID=1\n",
      "GRPC_VERBOSITY=ERROR\n",
      "MPLBACKEND=module://matplotlib_inline.backend_inline\n",
      "XDG_RUNTIME_DIR=/run/user/2001\n",
      "SSL_CERT_FILE=/usr/lib/ssl/certs/ca-certificates.crt\n",
      "SSH_CLIENT=144.92.38.236 6281 22\n",
      "VSCODE_GIT_ASKPASS_MAIN=/home/shuyaoli/.vscode-server/cli/servers/Stable-2901c5ac6db8a986a5666c3af51ff804d05af0d4/server/extensions/git/dist/askpass-main.js\n",
      "XDG_DATA_DIRS=/usr/local/share:/usr/share:/var/lib/snapd/desktop\n",
      "BROWSER=/home/shuyaoli/.vscode-server/cli/servers/Stable-2901c5ac6db8a986a5666c3af51ff804d05af0d4/server/bin/helpers/browser.sh\n",
      "PATH=/home/shuyaoli/.local/bin:/home/shuyaoli/.vscode-server/cli/servers/Stable-2901c5ac6db8a986a5666c3af51ff804d05af0d4/server/bin/remote-cli:/usr/local/sbin:/usr/local/bin:/usr/sbin:/usr/bin:/sbin:/bin:/usr/games:/usr/local/games:/snap/bin:/home/shuyaoli/.vscode-server/data/User/globalStorage/github.copilot-chat/debugCommand\n",
      "DBUS_SESSION_BUS_ADDRESS=unix:path=/run/user/2001/bus\n",
      "ALLOW_MULTIPLE_LIBTPU_LOAD=1\n",
      "OLDPWD=/home/shuyaoli\n",
      "TERM_PROGRAM=vscode\n",
      "VSCODE_IPC_HOOK_CLI=/run/user/2001/vscode-ipc-e7553d9b-c17e-47ce-975e-7876beb772b4.sock\n"
     ]
    }
   ],
   "source": [
    "!printenv"
   ]
  },
  {
   "cell_type": "code",
   "execution_count": null,
   "id": "fa81d274-fa2d-433e-ab61-cb2c62b5c8aa",
   "metadata": {},
   "outputs": [],
   "source": []
  }
 ],
 "metadata": {
  "kernelspec": {
   "display_name": "Python 3 (ipykernel)",
   "language": "python",
   "name": "python3"
  },
  "language_info": {
   "codemirror_mode": {
    "name": "ipython",
    "version": 3
   },
   "file_extension": ".py",
   "mimetype": "text/x-python",
   "name": "python",
   "nbconvert_exporter": "python",
   "pygments_lexer": "ipython3",
   "version": "3.10.6"
  }
 },
 "nbformat": 4,
 "nbformat_minor": 5
}
